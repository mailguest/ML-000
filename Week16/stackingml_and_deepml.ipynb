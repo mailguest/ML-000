{
  "nbformat": 4,
  "nbformat_minor": 0,
  "metadata": {
    "colab": {
      "name": "stackingml_and_deepml.ipynb",
      "provenance": [],
      "collapsed_sections": [],
      "authorship_tag": "ABX9TyN10Gp27Fn+C+xUe7Ewf54C",
      "include_colab_link": true
    },
    "kernelspec": {
      "name": "python3",
      "display_name": "Python 3"
    },
    "language_info": {
      "name": "python"
    }
  },
  "cells": [
    {
      "cell_type": "markdown",
      "metadata": {
        "id": "view-in-github",
        "colab_type": "text"
      },
      "source": [
        "<a href=\"https://colab.research.google.com/github/mailguest/ML-000/blob/main/Week16/stackingml_and_deepml.ipynb\" target=\"_parent\"><img src=\"https://colab.research.google.com/assets/colab-badge.svg\" alt=\"Open In Colab\"/></a>"
      ]
    },
    {
      "cell_type": "markdown",
      "metadata": {
        "id": "ixin0S8EIZ0G"
      },
      "source": [
        "# Load data and data preprocessing"
      ]
    },
    {
      "cell_type": "code",
      "metadata": {
        "id": "OiuufIHsIatW"
      },
      "source": [
        "import lightgbm as lgb\n",
        "import numpy as np\n",
        "import pandas as pd\n",
        "from sklearn.model_selection import KFold\n",
        "from sklearn.metrics import accuracy_score"
      ],
      "execution_count": 1,
      "outputs": []
    },
    {
      "cell_type": "code",
      "metadata": {
        "colab": {
          "base_uri": "https://localhost:8080/"
        },
        "id": "j_05Yx-DIcfq",
        "outputId": "f535ad2c-ad09-4a53-bd6b-04b9cdb5338a"
      },
      "source": [
        "from google.colab import drive\n",
        "drive.mount('/content/drive')\n",
        "\n",
        "seed = 42 # for the same data division\n",
        "\n",
        "kf = KFold(n_splits=5, random_state=seed,shuffle=True)\n",
        "df_train = pd.read_csv('/content/drive/MyDrive/final/train_final.csv')\n",
        "df_test = pd.read_csv('/content/drive/MyDrive/final/test_final.csv')"
      ],
      "execution_count": 5,
      "outputs": [
        {
          "output_type": "stream",
          "text": [
            "Drive already mounted at /content/drive; to attempt to forcibly remount, call drive.mount(\"/content/drive\", force_remount=True).\n"
          ],
          "name": "stdout"
        }
      ]
    },
    {
      "cell_type": "code",
      "metadata": {
        "colab": {
          "base_uri": "https://localhost:8080/"
        },
        "id": "39yLf_JlIfln",
        "outputId": "8803edad-5761-422c-8498-e75d0b6e6d42"
      },
      "source": [
        "df_train.shape, df_test.shape"
      ],
      "execution_count": 7,
      "outputs": [
        {
          "output_type": "execute_result",
          "data": {
            "text/plain": [
              "((50000, 146), (50000, 146))"
            ]
          },
          "metadata": {
            "tags": []
          },
          "execution_count": 7
        }
      ]
    },
    {
      "cell_type": "code",
      "metadata": {
        "id": "D0tqps0BIpEM"
      },
      "source": [
        "train_clean = df_train.copy()\n",
        "test_clean = df_test.copy()\n",
        "\n",
        "train_clean.fillna(0,inplace=True)\n",
        "test_clean.fillna(0,inplace=True)\n",
        "\n",
        "X_train = train_clean.drop(columns=['loan_status']).values\n",
        "Y_train = train_clean['loan_status'].values.astype(int)\n",
        "X_test = test_clean.drop(columns=['loan_status']).values\n",
        "Y_test = test_clean['loan_status'].values.astype(int)"
      ],
      "execution_count": 8,
      "outputs": []
    },
    {
      "cell_type": "code",
      "metadata": {
        "id": "SkFSiBQYJo-t"
      },
      "source": [
        "# split data for five fold\n",
        "def split_data_for_five_fold(X, Y):\n",
        "  fold_data = []\n",
        "  for train_index, eval_index in kf.split(X):\n",
        "    x_train, x_eval = X[train_index], X[eval_index]\n",
        "    y_train, y_eval = Y[train_index], Y[eval_index]\n",
        "    fold_data.append([(x_train, y_train), (x_eval, y_eval)])\n",
        "  return fold_data\n",
        "\n",
        "five_fold_data = split_data_for_five_fold(X_train, Y_train)"
      ],
      "execution_count": 38,
      "outputs": []
    },
    {
      "cell_type": "markdown",
      "metadata": {
        "id": "bVSxcUc9PHhl"
      },
      "source": [
        "# Algorithm"
      ]
    },
    {
      "cell_type": "code",
      "metadata": {
        "id": "PuxuUAkIPGw1"
      },
      "source": [
        "def get_model(param, fold_data):\n",
        "    model_list = []\n",
        "    for idx, [(x_train, y_train), (x_eval, y_eval)] in enumerate(fold_data):\n",
        "        print('{}-th model is training:'.format(idx))\n",
        "        train_data = lgb.Dataset(x_train, label=y_train)\n",
        "        validation_data = lgb.Dataset(x_eval, label=y_eval)\n",
        "        bst = lgb.train(param, train_data, valid_sets=[validation_data])\n",
        "        model_list.append(bst)\n",
        "    return model_list"
      ],
      "execution_count": 39,
      "outputs": []
    },
    {
      "cell_type": "code",
      "metadata": {
        "id": "7kgSckAUPNNr"
      },
      "source": [
        "param_base = {'num_leaves': 31, 'objective': 'binary', 'metric': 'binary', 'num_round':1000}\n",
        "\n",
        "# num_leaves: 128 -> 168\n",
        "# num_round: 100 -> 250\n",
        "# learning_rate: 3e-3 -> 0.0093\n",
        "# feature_fraction: 0.6 -> 0.84\n",
        "# bagging_fraction: 0.8 -> 0.972（加大叶子树与随机选取，调节学习率）\n",
        "param_fine_tuning = {'num_thread': 8,'num_leaves': 168, 'metric': 'binary', 'objective': 'binary', 'num_round': 2500,\n",
        "                     'learning_rate': 0.0093, 'feature_fraction': 0.84, 'bagging_fraction': 0.972}"
      ],
      "execution_count": 25,
      "outputs": []
    },
    {
      "cell_type": "code",
      "metadata": {
        "id": "lKonNLvESh4f"
      },
      "source": [
        "# base param train\n",
        "param_base_model = get_model(param_base, five_fold_data)\n",
        "\n",
        "# param fine tuning\n",
        "param_fine_tuning_model = get_model(param_fine_tuning, five_fold_data)"
      ],
      "execution_count": null,
      "outputs": []
    },
    {
      "cell_type": "markdown",
      "metadata": {
        "id": "bqBSmRbnS1A1"
      },
      "source": [
        "# Test"
      ]
    },
    {
      "cell_type": "code",
      "metadata": {
        "id": "e0z9RXpPSrNZ"
      },
      "source": [
        "def test_model(model_list, X, Y):\n",
        "    data = X\n",
        "    five_fold_pred = np.zeros((5, len(X)))\n",
        "    for i, bst in enumerate(model_list):\n",
        "        ypred = bst.predict(data, num_iteration=bst.best_iteration)\n",
        "        five_fold_pred[i] = ypred\n",
        "    ypred_mean = (five_fold_pred.mean(axis=-2)>0.5).astype(int)\n",
        "    return accuracy_score(ypred_mean, Y)"
      ],
      "execution_count": 40,
      "outputs": []
    },
    {
      "cell_type": "code",
      "metadata": {
        "id": "S8DhPxx1S22R"
      },
      "source": [
        "base_score = test_model(param_base_model, X_test, Y_test)\n",
        "fine_tuning_score = test_model(param_fine_tuning_model, X_test, Y_test)"
      ],
      "execution_count": 28,
      "outputs": []
    },
    {
      "cell_type": "code",
      "metadata": {
        "colab": {
          "base_uri": "https://localhost:8080/"
        },
        "id": "hs_Lnix2TLHk",
        "outputId": "8880c235-8476-4277-fdc0-1267f86d86f6"
      },
      "source": [
        "print(f'base: {base_score}, fine tuning: {fine_tuning_score}')"
      ],
      "execution_count": 29,
      "outputs": [
        {
          "output_type": "stream",
          "text": [
            "base: 0.91626, fine tuning: 0.91702\n"
          ],
          "name": "stdout"
        }
      ]
    },
    {
      "cell_type": "markdown",
      "metadata": {
        "id": "5ucAElIbchju"
      },
      "source": [
        "# 参数筛选的随机性"
      ]
    },
    {
      "cell_type": "code",
      "metadata": {
        "id": "GWVo9q_MWa7M"
      },
      "source": [
        "from sklearn.model_selection import GridSearchCV\n",
        "\n",
        "bagging_and_feature_params_test={\n",
        "    'feature_fraction': [0.5, 0.6, 0.7, 0.8, 0.9],\n",
        "    'bagging_fraction': [0.6, 0.7, 0.8, 0.9, 1.0]\n",
        "}\n",
        "\n",
        "model_lgb = lgb.LGBMRegressor(objective='binary', num_leaves=168,\n",
        "                              learning_rate=0.1, metric='binary', \n",
        "                              num_round=2500, num_thread=8)\n",
        "grid_search = GridSearchCV(estimator=model_lgb, \n",
        "                 param_grid=bagging_and_feature_params_test, \n",
        "                 scoring='neg_mean_squared_error', \n",
        "                 cv=5, verbose=1, n_jobs=4)\n",
        "\n",
        "grid_search.fit(X_train, Y_train)\n",
        "grid_search.score(X_test, Y_test)\n",
        "grid_search.grid_scores_, grid_search.best_params_, grid_search.best_score_"
      ],
      "execution_count": null,
      "outputs": []
    },
    {
      "cell_type": "markdown",
      "metadata": {
        "id": "ygtQLqZFfUOt"
      },
      "source": [
        "# 构建衍生变量"
      ]
    },
    {
      "cell_type": "code",
      "metadata": {
        "id": "bPQBDRKnfWOu"
      },
      "source": [
        "new_train = df_train.copy()\n",
        "new_test = df_test.copy()"
      ],
      "execution_count": 41,
      "outputs": []
    },
    {
      "cell_type": "code",
      "metadata": {
        "id": "N7ryIhhDfY_Q"
      },
      "source": [
        "new_train['new_feature1'] = (new_train['discrete_term_1_one_hot'] + new_train['discrete_term_2_one_hot'])\n",
        "new_train['new_feature2'] = (new_train['discrete_purpose_1_one_hot'] + new_train['discrete_purpose_5_one_hot'])\n",
        "\n",
        "new_test['new_feature1'] = (new_test['discrete_term_1_one_hot'] + new_test['discrete_term_2_one_hot'])\n",
        "new_test['new_feature2'] = (new_test['discrete_purpose_1_one_hot'] + new_test['discrete_purpose_5_one_hot'])"
      ],
      "execution_count": 42,
      "outputs": []
    },
    {
      "cell_type": "code",
      "metadata": {
        "colab": {
          "base_uri": "https://localhost:8080/",
          "height": 253
        },
        "id": "IK72-WtefqhP",
        "outputId": "24704f90-683d-4822-a3c3-0752ea569ce1"
      },
      "source": [
        "new_train.head(5)"
      ],
      "execution_count": 43,
      "outputs": [
        {
          "output_type": "execute_result",
          "data": {
            "text/html": [
              "<div>\n",
              "<style scoped>\n",
              "    .dataframe tbody tr th:only-of-type {\n",
              "        vertical-align: middle;\n",
              "    }\n",
              "\n",
              "    .dataframe tbody tr th {\n",
              "        vertical-align: top;\n",
              "    }\n",
              "\n",
              "    .dataframe thead th {\n",
              "        text-align: right;\n",
              "    }\n",
              "</style>\n",
              "<table border=\"1\" class=\"dataframe\">\n",
              "  <thead>\n",
              "    <tr style=\"text-align: right;\">\n",
              "      <th></th>\n",
              "      <th>continuous_annual_inc</th>\n",
              "      <th>continuous_annual_inc_joint</th>\n",
              "      <th>continuous_delinq_2yrs</th>\n",
              "      <th>continuous_dti</th>\n",
              "      <th>continuous_dti_joint</th>\n",
              "      <th>continuous_fico_range_high</th>\n",
              "      <th>continuous_fico_range_low</th>\n",
              "      <th>continuous_funded_amnt</th>\n",
              "      <th>continuous_funded_amnt_inv</th>\n",
              "      <th>continuous_inq_last_6mths</th>\n",
              "      <th>continuous_installment</th>\n",
              "      <th>continuous_int_rate</th>\n",
              "      <th>continuous_last_fico_range_high</th>\n",
              "      <th>continuous_last_fico_range_low</th>\n",
              "      <th>continuous_loan_amnt</th>\n",
              "      <th>loan_status</th>\n",
              "      <th>continuous_mths_since_last_delinq</th>\n",
              "      <th>continuous_mths_since_last_major_derog</th>\n",
              "      <th>continuous_mths_since_last_record</th>\n",
              "      <th>continuous_open_acc</th>\n",
              "      <th>continuous_pub_rec</th>\n",
              "      <th>discrete_addr_state_1_one_hot</th>\n",
              "      <th>discrete_addr_state_2_one_hot</th>\n",
              "      <th>discrete_addr_state_3_one_hot</th>\n",
              "      <th>discrete_addr_state_4_one_hot</th>\n",
              "      <th>discrete_addr_state_5_one_hot</th>\n",
              "      <th>discrete_addr_state_6_one_hot</th>\n",
              "      <th>discrete_addr_state_7_one_hot</th>\n",
              "      <th>discrete_addr_state_8_one_hot</th>\n",
              "      <th>discrete_addr_state_9_one_hot</th>\n",
              "      <th>discrete_addr_state_10_one_hot</th>\n",
              "      <th>discrete_addr_state_11_one_hot</th>\n",
              "      <th>discrete_addr_state_12_one_hot</th>\n",
              "      <th>discrete_addr_state_13_one_hot</th>\n",
              "      <th>discrete_addr_state_14_one_hot</th>\n",
              "      <th>discrete_addr_state_15_one_hot</th>\n",
              "      <th>discrete_addr_state_16_one_hot</th>\n",
              "      <th>discrete_addr_state_17_one_hot</th>\n",
              "      <th>discrete_addr_state_18_one_hot</th>\n",
              "      <th>discrete_addr_state_19_one_hot</th>\n",
              "      <th>...</th>\n",
              "      <th>discrete_pymnt_plan_1_one_hot</th>\n",
              "      <th>discrete_sub_grade_1_one_hot</th>\n",
              "      <th>discrete_sub_grade_2_one_hot</th>\n",
              "      <th>discrete_sub_grade_3_one_hot</th>\n",
              "      <th>discrete_sub_grade_4_one_hot</th>\n",
              "      <th>discrete_sub_grade_5_one_hot</th>\n",
              "      <th>discrete_sub_grade_6_one_hot</th>\n",
              "      <th>discrete_sub_grade_7_one_hot</th>\n",
              "      <th>discrete_sub_grade_8_one_hot</th>\n",
              "      <th>discrete_sub_grade_9_one_hot</th>\n",
              "      <th>discrete_sub_grade_10_one_hot</th>\n",
              "      <th>discrete_sub_grade_11_one_hot</th>\n",
              "      <th>discrete_sub_grade_12_one_hot</th>\n",
              "      <th>discrete_sub_grade_13_one_hot</th>\n",
              "      <th>discrete_sub_grade_14_one_hot</th>\n",
              "      <th>discrete_sub_grade_15_one_hot</th>\n",
              "      <th>discrete_sub_grade_16_one_hot</th>\n",
              "      <th>discrete_sub_grade_17_one_hot</th>\n",
              "      <th>discrete_sub_grade_18_one_hot</th>\n",
              "      <th>discrete_sub_grade_19_one_hot</th>\n",
              "      <th>discrete_sub_grade_20_one_hot</th>\n",
              "      <th>discrete_sub_grade_21_one_hot</th>\n",
              "      <th>discrete_sub_grade_22_one_hot</th>\n",
              "      <th>discrete_sub_grade_23_one_hot</th>\n",
              "      <th>discrete_sub_grade_24_one_hot</th>\n",
              "      <th>discrete_sub_grade_25_one_hot</th>\n",
              "      <th>discrete_sub_grade_26_one_hot</th>\n",
              "      <th>discrete_sub_grade_27_one_hot</th>\n",
              "      <th>discrete_sub_grade_28_one_hot</th>\n",
              "      <th>discrete_sub_grade_29_one_hot</th>\n",
              "      <th>discrete_sub_grade_30_one_hot</th>\n",
              "      <th>discrete_sub_grade_31_one_hot</th>\n",
              "      <th>discrete_sub_grade_32_one_hot</th>\n",
              "      <th>discrete_sub_grade_33_one_hot</th>\n",
              "      <th>discrete_sub_grade_34_one_hot</th>\n",
              "      <th>discrete_sub_grade_35_one_hot</th>\n",
              "      <th>discrete_term_1_one_hot</th>\n",
              "      <th>discrete_term_2_one_hot</th>\n",
              "      <th>new_feature1</th>\n",
              "      <th>new_feature2</th>\n",
              "    </tr>\n",
              "  </thead>\n",
              "  <tbody>\n",
              "    <tr>\n",
              "      <th>0</th>\n",
              "      <td>55000.0</td>\n",
              "      <td>NaN</td>\n",
              "      <td>0.0</td>\n",
              "      <td>5.91</td>\n",
              "      <td>NaN</td>\n",
              "      <td>679.0</td>\n",
              "      <td>675.0</td>\n",
              "      <td>3600.0</td>\n",
              "      <td>3600.0</td>\n",
              "      <td>1.0</td>\n",
              "      <td>123.03</td>\n",
              "      <td>13.99</td>\n",
              "      <td>564.0</td>\n",
              "      <td>560.0</td>\n",
              "      <td>3600.0</td>\n",
              "      <td>1</td>\n",
              "      <td>30.0</td>\n",
              "      <td>30.0</td>\n",
              "      <td>NaN</td>\n",
              "      <td>7.0</td>\n",
              "      <td>0.0</td>\n",
              "      <td>1</td>\n",
              "      <td>0</td>\n",
              "      <td>0</td>\n",
              "      <td>0</td>\n",
              "      <td>0</td>\n",
              "      <td>0</td>\n",
              "      <td>0</td>\n",
              "      <td>0</td>\n",
              "      <td>0</td>\n",
              "      <td>0</td>\n",
              "      <td>0</td>\n",
              "      <td>0</td>\n",
              "      <td>0</td>\n",
              "      <td>0</td>\n",
              "      <td>0</td>\n",
              "      <td>0</td>\n",
              "      <td>0</td>\n",
              "      <td>0</td>\n",
              "      <td>0</td>\n",
              "      <td>...</td>\n",
              "      <td>1</td>\n",
              "      <td>1</td>\n",
              "      <td>0</td>\n",
              "      <td>0</td>\n",
              "      <td>0</td>\n",
              "      <td>0</td>\n",
              "      <td>0</td>\n",
              "      <td>0</td>\n",
              "      <td>0</td>\n",
              "      <td>0</td>\n",
              "      <td>0</td>\n",
              "      <td>0</td>\n",
              "      <td>0</td>\n",
              "      <td>0</td>\n",
              "      <td>0</td>\n",
              "      <td>0</td>\n",
              "      <td>0</td>\n",
              "      <td>0</td>\n",
              "      <td>0</td>\n",
              "      <td>0</td>\n",
              "      <td>0</td>\n",
              "      <td>0</td>\n",
              "      <td>0</td>\n",
              "      <td>0</td>\n",
              "      <td>0</td>\n",
              "      <td>0</td>\n",
              "      <td>0</td>\n",
              "      <td>0</td>\n",
              "      <td>0</td>\n",
              "      <td>0</td>\n",
              "      <td>0</td>\n",
              "      <td>0</td>\n",
              "      <td>0</td>\n",
              "      <td>0</td>\n",
              "      <td>0</td>\n",
              "      <td>0</td>\n",
              "      <td>1</td>\n",
              "      <td>0</td>\n",
              "      <td>1</td>\n",
              "      <td>1</td>\n",
              "    </tr>\n",
              "    <tr>\n",
              "      <th>1</th>\n",
              "      <td>65000.0</td>\n",
              "      <td>NaN</td>\n",
              "      <td>1.0</td>\n",
              "      <td>16.06</td>\n",
              "      <td>NaN</td>\n",
              "      <td>719.0</td>\n",
              "      <td>715.0</td>\n",
              "      <td>24700.0</td>\n",
              "      <td>24700.0</td>\n",
              "      <td>4.0</td>\n",
              "      <td>820.28</td>\n",
              "      <td>11.99</td>\n",
              "      <td>699.0</td>\n",
              "      <td>695.0</td>\n",
              "      <td>24700.0</td>\n",
              "      <td>1</td>\n",
              "      <td>6.0</td>\n",
              "      <td>NaN</td>\n",
              "      <td>NaN</td>\n",
              "      <td>22.0</td>\n",
              "      <td>0.0</td>\n",
              "      <td>0</td>\n",
              "      <td>1</td>\n",
              "      <td>0</td>\n",
              "      <td>0</td>\n",
              "      <td>0</td>\n",
              "      <td>0</td>\n",
              "      <td>0</td>\n",
              "      <td>0</td>\n",
              "      <td>0</td>\n",
              "      <td>0</td>\n",
              "      <td>0</td>\n",
              "      <td>0</td>\n",
              "      <td>0</td>\n",
              "      <td>0</td>\n",
              "      <td>0</td>\n",
              "      <td>0</td>\n",
              "      <td>0</td>\n",
              "      <td>0</td>\n",
              "      <td>0</td>\n",
              "      <td>...</td>\n",
              "      <td>1</td>\n",
              "      <td>0</td>\n",
              "      <td>1</td>\n",
              "      <td>0</td>\n",
              "      <td>0</td>\n",
              "      <td>0</td>\n",
              "      <td>0</td>\n",
              "      <td>0</td>\n",
              "      <td>0</td>\n",
              "      <td>0</td>\n",
              "      <td>0</td>\n",
              "      <td>0</td>\n",
              "      <td>0</td>\n",
              "      <td>0</td>\n",
              "      <td>0</td>\n",
              "      <td>0</td>\n",
              "      <td>0</td>\n",
              "      <td>0</td>\n",
              "      <td>0</td>\n",
              "      <td>0</td>\n",
              "      <td>0</td>\n",
              "      <td>0</td>\n",
              "      <td>0</td>\n",
              "      <td>0</td>\n",
              "      <td>0</td>\n",
              "      <td>0</td>\n",
              "      <td>0</td>\n",
              "      <td>0</td>\n",
              "      <td>0</td>\n",
              "      <td>0</td>\n",
              "      <td>0</td>\n",
              "      <td>0</td>\n",
              "      <td>0</td>\n",
              "      <td>0</td>\n",
              "      <td>0</td>\n",
              "      <td>0</td>\n",
              "      <td>1</td>\n",
              "      <td>0</td>\n",
              "      <td>1</td>\n",
              "      <td>0</td>\n",
              "    </tr>\n",
              "    <tr>\n",
              "      <th>2</th>\n",
              "      <td>63000.0</td>\n",
              "      <td>71000.0</td>\n",
              "      <td>0.0</td>\n",
              "      <td>10.78</td>\n",
              "      <td>13.85</td>\n",
              "      <td>699.0</td>\n",
              "      <td>695.0</td>\n",
              "      <td>20000.0</td>\n",
              "      <td>20000.0</td>\n",
              "      <td>0.0</td>\n",
              "      <td>432.66</td>\n",
              "      <td>10.78</td>\n",
              "      <td>704.0</td>\n",
              "      <td>700.0</td>\n",
              "      <td>20000.0</td>\n",
              "      <td>1</td>\n",
              "      <td>NaN</td>\n",
              "      <td>NaN</td>\n",
              "      <td>NaN</td>\n",
              "      <td>6.0</td>\n",
              "      <td>0.0</td>\n",
              "      <td>0</td>\n",
              "      <td>0</td>\n",
              "      <td>1</td>\n",
              "      <td>0</td>\n",
              "      <td>0</td>\n",
              "      <td>0</td>\n",
              "      <td>0</td>\n",
              "      <td>0</td>\n",
              "      <td>0</td>\n",
              "      <td>0</td>\n",
              "      <td>0</td>\n",
              "      <td>0</td>\n",
              "      <td>0</td>\n",
              "      <td>0</td>\n",
              "      <td>0</td>\n",
              "      <td>0</td>\n",
              "      <td>0</td>\n",
              "      <td>0</td>\n",
              "      <td>0</td>\n",
              "      <td>...</td>\n",
              "      <td>1</td>\n",
              "      <td>0</td>\n",
              "      <td>0</td>\n",
              "      <td>1</td>\n",
              "      <td>0</td>\n",
              "      <td>0</td>\n",
              "      <td>0</td>\n",
              "      <td>0</td>\n",
              "      <td>0</td>\n",
              "      <td>0</td>\n",
              "      <td>0</td>\n",
              "      <td>0</td>\n",
              "      <td>0</td>\n",
              "      <td>0</td>\n",
              "      <td>0</td>\n",
              "      <td>0</td>\n",
              "      <td>0</td>\n",
              "      <td>0</td>\n",
              "      <td>0</td>\n",
              "      <td>0</td>\n",
              "      <td>0</td>\n",
              "      <td>0</td>\n",
              "      <td>0</td>\n",
              "      <td>0</td>\n",
              "      <td>0</td>\n",
              "      <td>0</td>\n",
              "      <td>0</td>\n",
              "      <td>0</td>\n",
              "      <td>0</td>\n",
              "      <td>0</td>\n",
              "      <td>0</td>\n",
              "      <td>0</td>\n",
              "      <td>0</td>\n",
              "      <td>0</td>\n",
              "      <td>0</td>\n",
              "      <td>0</td>\n",
              "      <td>0</td>\n",
              "      <td>1</td>\n",
              "      <td>1</td>\n",
              "      <td>0</td>\n",
              "    </tr>\n",
              "    <tr>\n",
              "      <th>3</th>\n",
              "      <td>104433.0</td>\n",
              "      <td>NaN</td>\n",
              "      <td>1.0</td>\n",
              "      <td>25.37</td>\n",
              "      <td>NaN</td>\n",
              "      <td>699.0</td>\n",
              "      <td>695.0</td>\n",
              "      <td>10400.0</td>\n",
              "      <td>10400.0</td>\n",
              "      <td>3.0</td>\n",
              "      <td>289.91</td>\n",
              "      <td>22.45</td>\n",
              "      <td>704.0</td>\n",
              "      <td>700.0</td>\n",
              "      <td>10400.0</td>\n",
              "      <td>1</td>\n",
              "      <td>12.0</td>\n",
              "      <td>NaN</td>\n",
              "      <td>NaN</td>\n",
              "      <td>12.0</td>\n",
              "      <td>0.0</td>\n",
              "      <td>1</td>\n",
              "      <td>0</td>\n",
              "      <td>0</td>\n",
              "      <td>0</td>\n",
              "      <td>0</td>\n",
              "      <td>0</td>\n",
              "      <td>0</td>\n",
              "      <td>0</td>\n",
              "      <td>0</td>\n",
              "      <td>0</td>\n",
              "      <td>0</td>\n",
              "      <td>0</td>\n",
              "      <td>0</td>\n",
              "      <td>0</td>\n",
              "      <td>0</td>\n",
              "      <td>0</td>\n",
              "      <td>0</td>\n",
              "      <td>0</td>\n",
              "      <td>0</td>\n",
              "      <td>...</td>\n",
              "      <td>1</td>\n",
              "      <td>0</td>\n",
              "      <td>0</td>\n",
              "      <td>0</td>\n",
              "      <td>1</td>\n",
              "      <td>0</td>\n",
              "      <td>0</td>\n",
              "      <td>0</td>\n",
              "      <td>0</td>\n",
              "      <td>0</td>\n",
              "      <td>0</td>\n",
              "      <td>0</td>\n",
              "      <td>0</td>\n",
              "      <td>0</td>\n",
              "      <td>0</td>\n",
              "      <td>0</td>\n",
              "      <td>0</td>\n",
              "      <td>0</td>\n",
              "      <td>0</td>\n",
              "      <td>0</td>\n",
              "      <td>0</td>\n",
              "      <td>0</td>\n",
              "      <td>0</td>\n",
              "      <td>0</td>\n",
              "      <td>0</td>\n",
              "      <td>0</td>\n",
              "      <td>0</td>\n",
              "      <td>0</td>\n",
              "      <td>0</td>\n",
              "      <td>0</td>\n",
              "      <td>0</td>\n",
              "      <td>0</td>\n",
              "      <td>0</td>\n",
              "      <td>0</td>\n",
              "      <td>0</td>\n",
              "      <td>0</td>\n",
              "      <td>0</td>\n",
              "      <td>1</td>\n",
              "      <td>1</td>\n",
              "      <td>0</td>\n",
              "    </tr>\n",
              "    <tr>\n",
              "      <th>4</th>\n",
              "      <td>34000.0</td>\n",
              "      <td>NaN</td>\n",
              "      <td>0.0</td>\n",
              "      <td>10.20</td>\n",
              "      <td>NaN</td>\n",
              "      <td>694.0</td>\n",
              "      <td>690.0</td>\n",
              "      <td>11950.0</td>\n",
              "      <td>11950.0</td>\n",
              "      <td>0.0</td>\n",
              "      <td>405.18</td>\n",
              "      <td>13.44</td>\n",
              "      <td>759.0</td>\n",
              "      <td>755.0</td>\n",
              "      <td>11950.0</td>\n",
              "      <td>1</td>\n",
              "      <td>NaN</td>\n",
              "      <td>NaN</td>\n",
              "      <td>NaN</td>\n",
              "      <td>5.0</td>\n",
              "      <td>0.0</td>\n",
              "      <td>0</td>\n",
              "      <td>0</td>\n",
              "      <td>0</td>\n",
              "      <td>1</td>\n",
              "      <td>0</td>\n",
              "      <td>0</td>\n",
              "      <td>0</td>\n",
              "      <td>0</td>\n",
              "      <td>0</td>\n",
              "      <td>0</td>\n",
              "      <td>0</td>\n",
              "      <td>0</td>\n",
              "      <td>0</td>\n",
              "      <td>0</td>\n",
              "      <td>0</td>\n",
              "      <td>0</td>\n",
              "      <td>0</td>\n",
              "      <td>0</td>\n",
              "      <td>0</td>\n",
              "      <td>...</td>\n",
              "      <td>1</td>\n",
              "      <td>0</td>\n",
              "      <td>0</td>\n",
              "      <td>0</td>\n",
              "      <td>0</td>\n",
              "      <td>1</td>\n",
              "      <td>0</td>\n",
              "      <td>0</td>\n",
              "      <td>0</td>\n",
              "      <td>0</td>\n",
              "      <td>0</td>\n",
              "      <td>0</td>\n",
              "      <td>0</td>\n",
              "      <td>0</td>\n",
              "      <td>0</td>\n",
              "      <td>0</td>\n",
              "      <td>0</td>\n",
              "      <td>0</td>\n",
              "      <td>0</td>\n",
              "      <td>0</td>\n",
              "      <td>0</td>\n",
              "      <td>0</td>\n",
              "      <td>0</td>\n",
              "      <td>0</td>\n",
              "      <td>0</td>\n",
              "      <td>0</td>\n",
              "      <td>0</td>\n",
              "      <td>0</td>\n",
              "      <td>0</td>\n",
              "      <td>0</td>\n",
              "      <td>0</td>\n",
              "      <td>0</td>\n",
              "      <td>0</td>\n",
              "      <td>0</td>\n",
              "      <td>0</td>\n",
              "      <td>0</td>\n",
              "      <td>1</td>\n",
              "      <td>0</td>\n",
              "      <td>1</td>\n",
              "      <td>1</td>\n",
              "    </tr>\n",
              "  </tbody>\n",
              "</table>\n",
              "<p>5 rows × 148 columns</p>\n",
              "</div>"
            ],
            "text/plain": [
              "   continuous_annual_inc  ...  new_feature2\n",
              "0                55000.0  ...             1\n",
              "1                65000.0  ...             0\n",
              "2                63000.0  ...             0\n",
              "3               104433.0  ...             0\n",
              "4                34000.0  ...             1\n",
              "\n",
              "[5 rows x 148 columns]"
            ]
          },
          "metadata": {
            "tags": []
          },
          "execution_count": 43
        }
      ]
    },
    {
      "cell_type": "code",
      "metadata": {
        "id": "IRWeyclif5fm"
      },
      "source": [
        "X_new_train = new_train.drop(columns=['loan_status']).values\n",
        "Y_new_train = new_train['loan_status'].values.astype(int)\n",
        "\n",
        "X_new_test = new_test.drop(columns=['loan_status']).values\n",
        "Y_new_test = new_test['loan_status'].values.astype(int)"
      ],
      "execution_count": 44,
      "outputs": []
    },
    {
      "cell_type": "code",
      "metadata": {
        "colab": {
          "base_uri": "https://localhost:8080/"
        },
        "id": "MUl552hVgHdW",
        "outputId": "54442a65-36a3-4aac-8be8-8a08ff625093"
      },
      "source": [
        "print(X_new_train)"
      ],
      "execution_count": 45,
      "outputs": [
        {
          "output_type": "stream",
          "text": [
            "[[5.50e+04      nan 0.00e+00 ... 0.00e+00 1.00e+00 1.00e+00]\n",
            " [6.50e+04      nan 1.00e+00 ... 0.00e+00 1.00e+00 0.00e+00]\n",
            " [6.30e+04 7.10e+04 0.00e+00 ... 1.00e+00 1.00e+00 0.00e+00]\n",
            " ...\n",
            " [5.10e+04      nan 0.00e+00 ... 0.00e+00 1.00e+00 0.00e+00]\n",
            " [4.55e+05      nan 0.00e+00 ... 0.00e+00 1.00e+00 1.00e+00]\n",
            " [5.80e+04      nan 0.00e+00 ... 0.00e+00 1.00e+00 1.00e+00]]\n"
          ],
          "name": "stdout"
        }
      ]
    },
    {
      "cell_type": "code",
      "metadata": {
        "id": "D4X7jNexgKfd"
      },
      "source": [
        "new_five_fold_data = split_data_for_five_fold(X_new_train, Y_new_train)"
      ],
      "execution_count": 46,
      "outputs": []
    },
    {
      "cell_type": "code",
      "metadata": {
        "colab": {
          "base_uri": "https://localhost:8080/"
        },
        "id": "338DvikFhk4v",
        "outputId": "107d7e24-fd5c-40ce-f808-df46fa65385f"
      },
      "source": [
        "print(new_five_fold_data)"
      ],
      "execution_count": 47,
      "outputs": [
        {
          "output_type": "stream",
          "text": [
            "[[(array([[5.50e+04,      nan, 0.00e+00, ..., 0.00e+00, 1.00e+00, 1.00e+00],\n",
            "       [6.50e+04,      nan, 1.00e+00, ..., 0.00e+00, 1.00e+00, 0.00e+00],\n",
            "       [6.30e+04, 7.10e+04, 0.00e+00, ..., 1.00e+00, 1.00e+00, 0.00e+00],\n",
            "       ...,\n",
            "       [5.10e+04,      nan, 0.00e+00, ..., 0.00e+00, 1.00e+00, 0.00e+00],\n",
            "       [4.55e+05,      nan, 0.00e+00, ..., 0.00e+00, 1.00e+00, 1.00e+00],\n",
            "       [5.80e+04,      nan, 0.00e+00, ..., 0.00e+00, 1.00e+00, 1.00e+00]]), array([1, 1, 1, ..., 1, 1, 1])), (array([[3.4000e+04,        nan, 0.0000e+00, ..., 0.0000e+00, 1.0000e+00,\n",
            "        1.0000e+00],\n",
            "       [8.5000e+04,        nan, 1.0000e+00, ..., 0.0000e+00, 1.0000e+00,\n",
            "        0.0000e+00],\n",
            "       [8.5000e+04,        nan, 0.0000e+00, ..., 0.0000e+00, 1.0000e+00,\n",
            "        1.0000e+00],\n",
            "       ...,\n",
            "       [1.0000e+05,        nan, 0.0000e+00, ..., 0.0000e+00, 1.0000e+00,\n",
            "        1.0000e+00],\n",
            "       [1.2075e+05,        nan, 0.0000e+00, ..., 1.0000e+00, 1.0000e+00,\n",
            "        1.0000e+00],\n",
            "       [4.7000e+04,        nan, 0.0000e+00, ..., 1.0000e+00, 1.0000e+00,\n",
            "        1.0000e+00]]), array([1, 1, 1, ..., 1, 1, 0]))], [(array([[6.30000e+04, 7.10000e+04, 0.00000e+00, ..., 1.00000e+00,\n",
            "        1.00000e+00, 0.00000e+00],\n",
            "       [1.04433e+05,         nan, 1.00000e+00, ..., 1.00000e+00,\n",
            "        1.00000e+00, 0.00000e+00],\n",
            "       [3.40000e+04,         nan, 0.00000e+00, ..., 0.00000e+00,\n",
            "        1.00000e+00, 1.00000e+00],\n",
            "       ...,\n",
            "       [5.10000e+04,         nan, 0.00000e+00, ..., 0.00000e+00,\n",
            "        1.00000e+00, 0.00000e+00],\n",
            "       [4.55000e+05,         nan, 0.00000e+00, ..., 0.00000e+00,\n",
            "        1.00000e+00, 1.00000e+00],\n",
            "       [5.80000e+04,         nan, 0.00000e+00, ..., 0.00000e+00,\n",
            "        1.00000e+00, 1.00000e+00]]), array([1, 1, 1, ..., 1, 1, 1])), (array([[5.5000e+04,        nan, 0.0000e+00, ..., 0.0000e+00, 1.0000e+00,\n",
            "        1.0000e+00],\n",
            "       [6.5000e+04,        nan, 1.0000e+00, ..., 0.0000e+00, 1.0000e+00,\n",
            "        0.0000e+00],\n",
            "       [9.2000e+04,        nan, 0.0000e+00, ..., 0.0000e+00, 1.0000e+00,\n",
            "        1.0000e+00],\n",
            "       ...,\n",
            "       [4.6968e+04,        nan, 0.0000e+00, ..., 0.0000e+00, 1.0000e+00,\n",
            "        1.0000e+00],\n",
            "       [1.7000e+05,        nan, 0.0000e+00, ..., 1.0000e+00, 1.0000e+00,\n",
            "        1.0000e+00],\n",
            "       [1.3000e+05,        nan, 3.0000e+00, ..., 0.0000e+00, 1.0000e+00,\n",
            "        1.0000e+00]]), array([1, 1, 1, ..., 0, 1, 1]))], [(array([[5.5e+04,     nan, 0.0e+00, ..., 0.0e+00, 1.0e+00, 1.0e+00],\n",
            "       [6.5e+04,     nan, 1.0e+00, ..., 0.0e+00, 1.0e+00, 0.0e+00],\n",
            "       [6.3e+04, 7.1e+04, 0.0e+00, ..., 1.0e+00, 1.0e+00, 0.0e+00],\n",
            "       ...,\n",
            "       [8.2e+04,     nan, 0.0e+00, ..., 0.0e+00, 1.0e+00, 1.0e+00],\n",
            "       [4.0e+04,     nan, 0.0e+00, ..., 0.0e+00, 1.0e+00, 1.0e+00],\n",
            "       [5.1e+04,     nan, 0.0e+00, ..., 0.0e+00, 1.0e+00, 0.0e+00]]), array([1, 1, 1, ..., 1, 1, 1])), (array([[1.04433e+05,         nan, 1.00000e+00, ..., 1.00000e+00,\n",
            "        1.00000e+00, 0.00000e+00],\n",
            "       [4.20000e+04,         nan, 0.00000e+00, ..., 0.00000e+00,\n",
            "        1.00000e+00, 1.00000e+00],\n",
            "       [1.12000e+05,         nan, 0.00000e+00, ..., 1.00000e+00,\n",
            "        1.00000e+00, 1.00000e+00],\n",
            "       ...,\n",
            "       [6.85000e+04,         nan, 0.00000e+00, ..., 0.00000e+00,\n",
            "        1.00000e+00, 1.00000e+00],\n",
            "       [4.55000e+05,         nan, 0.00000e+00, ..., 0.00000e+00,\n",
            "        1.00000e+00, 1.00000e+00],\n",
            "       [5.80000e+04,         nan, 0.00000e+00, ..., 0.00000e+00,\n",
            "        1.00000e+00, 1.00000e+00]]), array([1, 1, 1, ..., 1, 1, 1]))], [(array([[5.50e+04,      nan, 0.00e+00, ..., 0.00e+00, 1.00e+00, 1.00e+00],\n",
            "       [6.50e+04,      nan, 1.00e+00, ..., 0.00e+00, 1.00e+00, 0.00e+00],\n",
            "       [6.30e+04, 7.10e+04, 0.00e+00, ..., 1.00e+00, 1.00e+00, 0.00e+00],\n",
            "       ...,\n",
            "       [5.10e+04,      nan, 0.00e+00, ..., 0.00e+00, 1.00e+00, 0.00e+00],\n",
            "       [4.55e+05,      nan, 0.00e+00, ..., 0.00e+00, 1.00e+00, 1.00e+00],\n",
            "       [5.80e+04,      nan, 0.00e+00, ..., 0.00e+00, 1.00e+00, 1.00e+00]]), array([1, 1, 1, ..., 1, 1, 1])), (array([[1.80e+05,      nan, 0.00e+00, ..., 0.00e+00, 1.00e+00, 1.00e+00],\n",
            "       [5.50e+04,      nan, 0.00e+00, ..., 0.00e+00, 1.00e+00, 1.00e+00],\n",
            "       [1.25e+05,      nan, 0.00e+00, ..., 0.00e+00, 1.00e+00, 1.00e+00],\n",
            "       ...,\n",
            "       [3.40e+04,      nan, 0.00e+00, ..., 0.00e+00, 1.00e+00, 1.00e+00],\n",
            "       [8.20e+04,      nan, 0.00e+00, ..., 0.00e+00, 1.00e+00, 1.00e+00],\n",
            "       [4.00e+04,      nan, 0.00e+00, ..., 0.00e+00, 1.00e+00, 1.00e+00]]), array([1, 1, 1, ..., 1, 1, 1]))], [(array([[5.50000e+04,         nan, 0.00000e+00, ..., 0.00000e+00,\n",
            "        1.00000e+00, 1.00000e+00],\n",
            "       [6.50000e+04,         nan, 1.00000e+00, ..., 0.00000e+00,\n",
            "        1.00000e+00, 0.00000e+00],\n",
            "       [1.04433e+05,         nan, 1.00000e+00, ..., 1.00000e+00,\n",
            "        1.00000e+00, 0.00000e+00],\n",
            "       ...,\n",
            "       [6.85000e+04,         nan, 0.00000e+00, ..., 0.00000e+00,\n",
            "        1.00000e+00, 1.00000e+00],\n",
            "       [4.55000e+05,         nan, 0.00000e+00, ..., 0.00000e+00,\n",
            "        1.00000e+00, 1.00000e+00],\n",
            "       [5.80000e+04,         nan, 0.00000e+00, ..., 0.00000e+00,\n",
            "        1.00000e+00, 1.00000e+00]]), array([1, 1, 1, ..., 1, 1, 1])), (array([[6.3e+04, 7.1e+04, 0.0e+00, ..., 1.0e+00, 1.0e+00, 0.0e+00],\n",
            "       [6.4e+04,     nan, 0.0e+00, ..., 0.0e+00, 1.0e+00, 0.0e+00],\n",
            "       [1.5e+05,     nan, 0.0e+00, ..., 1.0e+00, 1.0e+00, 1.0e+00],\n",
            "       ...,\n",
            "       [6.0e+04,     nan, 3.0e+00, ..., 0.0e+00, 1.0e+00, 1.0e+00],\n",
            "       [4.4e+04,     nan, 1.0e+00, ..., 0.0e+00, 1.0e+00, 0.0e+00],\n",
            "       [5.1e+04,     nan, 0.0e+00, ..., 0.0e+00, 1.0e+00, 0.0e+00]]), array([1, 1, 0, ..., 1, 1, 1]))]]\n"
          ],
          "name": "stdout"
        }
      ]
    },
    {
      "cell_type": "code",
      "metadata": {
        "id": "-fJc_zKnhpJw"
      },
      "source": [
        "# base param train\n",
        "new_param_base_model = get_model(param_base, new_five_fold_data)\n",
        "\n",
        "# param fine tuning\n",
        "new_param_fine_tuning_model = get_model(param_fine_tuning, new_five_fold_data)"
      ],
      "execution_count": null,
      "outputs": []
    },
    {
      "cell_type": "code",
      "metadata": {
        "id": "bCFKWFtVjsoI"
      },
      "source": [
        "new_base_score = test_model(new_param_base_model, X_new_test, Y_new_test)\n",
        "new_fine_tuning_score = test_model(new_param_fine_tuning_model, X_new_test, Y_new_test)"
      ],
      "execution_count": 49,
      "outputs": []
    },
    {
      "cell_type": "code",
      "metadata": {
        "colab": {
          "base_uri": "https://localhost:8080/"
        },
        "id": "UUZg0ZIZkFSg",
        "outputId": "174ad547-990d-4d42-976b-202f92dd3ae9"
      },
      "source": [
        "print(f'base_score: {base_score}, fine_tuning_score: {fine_tuning_score}')\n",
        "print(f'new_base_score: {new_base_score}, new_fine_tuning_score: {new_fine_tuning_score}')\n",
        "print('base提升：%.6f%%' %((new_base_score-base_score)/base_score))\n",
        "print('fine tuning提升：%.6f%%' %((new_fine_tuning_score-fine_tuning_score)/fine_tuning_score))"
      ],
      "execution_count": 51,
      "outputs": [
        {
          "output_type": "stream",
          "text": [
            "base_score: 0.91626, fine_tuning_score: 0.91702\n",
            "new_base_score: 0.91582, new_fine_tuning_score: 0.91684\n",
            "base提升：-0.000480%\n",
            "fine tuning提升：-0.000196%\n"
          ],
          "name": "stdout"
        }
      ]
    },
    {
      "cell_type": "markdown",
      "metadata": {
        "id": "HKZRcgBDJ3pZ"
      },
      "source": [
        "# Stacking Model"
      ]
    },
    {
      "cell_type": "code",
      "metadata": {
        "id": "f2k2Ztq6J5mr"
      },
      "source": [
        "from sklearn.ensemble import (RandomForestClassifier, AdaBoostClassifier, \n",
        "                              GradientBoostingClassifier, ExtraTreesClassifier)\n",
        "from sklearn.svm import SVC\n",
        "\n",
        "from lightgbm.sklearn import LGBMClassifier\n",
        "import xgboost as xgb\n",
        "\n",
        "from sklearn.model_selection import (GridSearchCV, KFold)\n",
        "from sklearn.metrics import accuracy_score\n",
        "\n",
        "import matplotlib.pyplot as plt\n",
        "%matplotlib inline"
      ],
      "execution_count": 52,
      "outputs": []
    },
    {
      "cell_type": "code",
      "metadata": {
        "colab": {
          "base_uri": "https://localhost:8080/"
        },
        "id": "TnD_OINBJ8e5",
        "outputId": "9a213807-18f6-4aa8-dcf1-a4a8b9e3ef22"
      },
      "source": [
        "from sklearn.ensemble import RandomForestClassifier\n",
        "rnd_clf = RandomForestClassifier(n_estimators=100, random_state=20)\n",
        "rnd_clf.fit(X_train, Y_train)\n",
        "rnd_clf.score(X_test, Y_test)"
      ],
      "execution_count": 56,
      "outputs": [
        {
          "output_type": "execute_result",
          "data": {
            "text/plain": [
              "0.9164"
            ]
          },
          "metadata": {
            "tags": []
          },
          "execution_count": 56
        }
      ]
    },
    {
      "cell_type": "code",
      "metadata": {
        "colab": {
          "base_uri": "https://localhost:8080/"
        },
        "id": "QaZGGuiBJ-3-",
        "outputId": "a530e41c-07f5-4bdf-bba1-9d038cfcbbcd"
      },
      "source": [
        "from sklearn.linear_model import SGDClassifier\n",
        "sgd_clf = SGDClassifier(random_state=20)\n",
        "sgd_clf.fit(X_train, Y_train)\n",
        "sgd_clf.score(X_test, Y_test)"
      ],
      "execution_count": 57,
      "outputs": [
        {
          "output_type": "execute_result",
          "data": {
            "text/plain": [
              "0.8639"
            ]
          },
          "metadata": {
            "tags": []
          },
          "execution_count": 57
        }
      ]
    },
    {
      "cell_type": "code",
      "metadata": {
        "colab": {
          "base_uri": "https://localhost:8080/"
        },
        "id": "JJ6Zg1VOKCDM",
        "outputId": "cc0b24d0-e43f-409a-8411-b6cf4ab72a94"
      },
      "source": [
        "from sklearn.ensemble import GradientBoostingClassifier\n",
        "gdbt_clf = GradientBoostingClassifier(random_state = 20)\n",
        "gdbt_clf.fit(X_train, Y_train)\n",
        "gdbt_clf.score(X_test, Y_test)"
      ],
      "execution_count": 58,
      "outputs": [
        {
          "output_type": "execute_result",
          "data": {
            "text/plain": [
              "0.91772"
            ]
          },
          "metadata": {
            "tags": []
          },
          "execution_count": 58
        }
      ]
    },
    {
      "cell_type": "code",
      "metadata": {
        "colab": {
          "base_uri": "https://localhost:8080/"
        },
        "id": "0So_4DCWKE_t",
        "outputId": "cc658232-9b4b-4d4d-aac9-715b345494f3"
      },
      "source": [
        "from sklearn.ensemble import AdaBoostClassifier\n",
        "ada_clf = AdaBoostClassifier()\n",
        "ada_clf.fit(X_train, Y_train)\n",
        "ada_clf.score(X_test, Y_test)"
      ],
      "execution_count": 59,
      "outputs": [
        {
          "output_type": "execute_result",
          "data": {
            "text/plain": [
              "0.91604"
            ]
          },
          "metadata": {
            "tags": []
          },
          "execution_count": 59
        }
      ]
    },
    {
      "cell_type": "code",
      "metadata": {
        "colab": {
          "base_uri": "https://localhost:8080/"
        },
        "id": "Qa9p9ZJjKHUU",
        "outputId": "0afc934a-6ef8-479c-bb79-93d72ff000ea"
      },
      "source": [
        "from lightgbm import LGBMClassifier\n",
        "lgbm_clf = LGBMClassifier()\n",
        "lgbm_clf.fit(X_train, Y_train)\n",
        "lgbm_clf.score(X_test, Y_test)"
      ],
      "execution_count": 60,
      "outputs": [
        {
          "output_type": "execute_result",
          "data": {
            "text/plain": [
              "0.91768"
            ]
          },
          "metadata": {
            "tags": []
          },
          "execution_count": 60
        }
      ]
    },
    {
      "cell_type": "code",
      "metadata": {
        "colab": {
          "base_uri": "https://localhost:8080/"
        },
        "id": "VbZ914dZKJXp",
        "outputId": "8bb4d363-2465-44b7-e8b3-15cf565889bd"
      },
      "source": [
        "from sklearn.linear_model import LogisticRegression\n",
        "lr_clf = LogisticRegression(random_state = 20)\n",
        "lr_clf.fit(X_train, Y_train)\n",
        "lr_clf.score(X_test, Y_test)"
      ],
      "execution_count": 61,
      "outputs": [
        {
          "output_type": "stream",
          "text": [
            "/usr/local/lib/python3.7/dist-packages/sklearn/linear_model/_logistic.py:940: ConvergenceWarning: lbfgs failed to converge (status=1):\n",
            "STOP: TOTAL NO. of ITERATIONS REACHED LIMIT.\n",
            "\n",
            "Increase the number of iterations (max_iter) or scale the data as shown in:\n",
            "    https://scikit-learn.org/stable/modules/preprocessing.html\n",
            "Please also refer to the documentation for alternative solver options:\n",
            "    https://scikit-learn.org/stable/modules/linear_model.html#logistic-regression\n",
            "  extra_warning_msg=_LOGISTIC_SOLVER_CONVERGENCE_MSG)\n"
          ],
          "name": "stderr"
        },
        {
          "output_type": "execute_result",
          "data": {
            "text/plain": [
              "0.91108"
            ]
          },
          "metadata": {
            "tags": []
          },
          "execution_count": 61
        }
      ]
    },
    {
      "cell_type": "code",
      "metadata": {
        "colab": {
          "base_uri": "https://localhost:8080/"
        },
        "id": "z-efWJkmKMSC",
        "outputId": "54228d4c-bc97-4959-da54-88a4fd7018b5"
      },
      "source": [
        "from xgboost import XGBClassifier\n",
        "xgb_clf = XGBClassifier()\n",
        "xgb_clf.fit(X_train, Y_train)\n",
        "xgb_clf.score(X_test, Y_test)"
      ],
      "execution_count": 62,
      "outputs": [
        {
          "output_type": "execute_result",
          "data": {
            "text/plain": [
              "0.91712"
            ]
          },
          "metadata": {
            "tags": []
          },
          "execution_count": 62
        }
      ]
    },
    {
      "cell_type": "code",
      "metadata": {
        "colab": {
          "base_uri": "https://localhost:8080/"
        },
        "id": "qnVycUV6KOlm",
        "outputId": "92e4837c-8a89-41ee-fc71-fdeb91bdc52c"
      },
      "source": [
        "from sklearn.ensemble import VotingClassifier\n",
        "voting_clf = VotingClassifier(estimators=[('rf',rnd_clf ),('gdbt',gdbt_clf ),\n",
        "                                          ('ada',ada_clf ),('lgbm',lgbm_clf ),\n",
        "                                          ('xgb',xgb_clf )],voting='hard')\n",
        "voting_clf.fit(X_train, Y_train)\n",
        "voting_clf.score(X_test, Y_test)"
      ],
      "execution_count": 63,
      "outputs": [
        {
          "output_type": "execute_result",
          "data": {
            "text/plain": [
              "0.91814"
            ]
          },
          "metadata": {
            "tags": []
          },
          "execution_count": 63
        }
      ]
    },
    {
      "cell_type": "markdown",
      "metadata": {
        "id": "A1Zli8C6Kb3w"
      },
      "source": [
        "# Todo\n",
        "\n",
        "## 机器学习集成\n",
        "  * Stacking\n",
        "  * 投票融合法\n",
        "\n",
        "## 深度学习\n",
        "\n",
        "  * 加速方法\n",
        "    * 优化器\n",
        "    * 学习率调整\n",
        "    * 不同的训练阶段\n",
        "    * 损失函数\n",
        "    * Ensemble集成\n",
        "    * 数据扩充\n",
        "    * Encoder 拼接\n",
        "  * 深度学习网络+Adam\n",
        "  * 残差网络\n",
        "  * 使用TabNet\n",
        "  * 深度网络集成"
      ]
    },
    {
      "cell_type": "code",
      "metadata": {
        "id": "CS0L6i4KKZZO"
      },
      "source": [
        ""
      ],
      "execution_count": null,
      "outputs": []
    }
  ]
}